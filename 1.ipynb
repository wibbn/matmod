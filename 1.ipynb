{
 "cells": [
  {
   "cell_type": "code",
   "execution_count": 15,
   "metadata": {},
   "outputs": [],
   "source": [
    "import numpy as np\n",
    "from typing import *"
   ]
  },
  {
   "cell_type": "markdown",
   "metadata": {},
   "source": [
    "# Рассказываю, как работает вообще тема вся эта с вычислением уравнения\n",
    "## Лайк за красоту решения!\n",
    "\n",
    "Во-первых, обозначим аргументы - у нас есть:\n",
    "1. интеграл определенный на области [a, b]\n",
    "2. вырожденное ядро K(x, y) - здесь kernel_func\n",
    "3. некоторая известная функция возмущения f(x) - здесь func или f\n",
    "4. некоторая неизвестная функция u(x) - здесь никак не обозначена\n",
    "5. некоторый параметр lambda - без понятия как в md символы особые вставлять\n",
    "\n",
    "___\n",
    "Все это добро предстает в виде интегральной функции, которое необходимо перевести в дискретный вид, в котором в свою очередь аргументы считаются по области Xi = a + i * h + h / 2, где h = |b - a| / N, где N - число разбиение отрезка [a, b]\n",
    "___\n",
    "Дальнейшие преобразования позволяют представить все выражение в матричной форме (I + K) * u = f,\n",
    "откуда как раз можно сделать замену (I + K) = A и получить стандартное матричное уравнение Au = f"
   ]
  },
  {
   "cell_type": "markdown",
   "metadata": {},
   "source": [
    "## Инициализируем значения на отрезке\n",
    "\n",
    "Функция принимает N - число разбиений, a - левую границу и b - правую границу отрезка\n",
    "\n",
    "На выходе получется кортеж с двумя параметрами:\n",
    "1. значения X по числу разбиений\n",
    "2. знаение шага разбиения h"
   ]
  },
  {
   "cell_type": "code",
   "execution_count": 16,
   "metadata": {},
   "outputs": [],
   "source": [
    "def init_x_h(N: float, a: float, b: float) -> tuple[Sequence[float], float]:\n",
    "    h = abs(b - a) / N\n",
    "    x = [i * h  + h / 2 + a for i in range(N)]\n",
    "    return x, h"
   ]
  },
  {
   "cell_type": "markdown",
   "metadata": {},
   "source": [
    "## Инициализация аргумента (I + K)\n",
    "\n",
    "Поскольку вырожденное ядро - функция, то на некотором определенном наборе X можно будет посчитать значения функции в конкретных точках\n",
    "\n",
    "Затем можно будет добавить значение единичной матрицы и считать аргумент готовым к исполнению\n",
    "\n",
    "Функция принимает в себя уже известные арргументы N, a, b, x и h, а также еще и функцию6 представляющую ядро - kernel_func\n",
    "\n",
    "Возвращает матрицу значений **(I + K)**, которую мы будем называть **A** в дальнейшем"
   ]
  },
  {
   "cell_type": "code",
   "execution_count": 17,
   "metadata": {},
   "outputs": [],
   "source": [
    "def init_a(\n",
    "            N: float,\n",
    "            a: float,\n",
    "            b: float,\n",
    "            kernel_func: Callable[[float, float], float],\n",
    "            x: Sequence[float],\n",
    "            h: float) -> np.matrix:\n",
    "    kernel_func_h = lambda x, y: kernel_func(x, y) * h\n",
    "    kernel = [ [kernel_func_h(i, j) for j in x] for i in x ]\n",
    "    return np.identity(N) + np.matrix(kernel)\n"
   ]
  },
  {
   "cell_type": "markdown",
   "metadata": {},
   "source": [
    "## Функция инициализации второго аргумента, в нашем случае вектора f функции возмущения\n",
    "\n",
    "По аналогии с ядром выичисляется на наборе X\n",
    "\n",
    "Приниамет следущие аргументы:\n",
    "1. функцию вычисления f - func\n",
    "2. вектор X\n",
    "\n",
    "Возвращает вектор типа np.array вычисленных значений f"
   ]
  },
  {
   "cell_type": "code",
   "execution_count": 18,
   "metadata": {},
   "outputs": [],
   "source": [
    "def init_b(func: Callable[[float], float], x: Sequence[float]) -> np.array:\n",
    "    return np.array([func(i) for i in x])"
   ]
  },
  {
   "cell_type": "markdown",
   "metadata": {},
   "source": [
    "## Функция создания вычисляемого выражения\n",
    "\n",
    "Принимает в себя все определенные аргументы изначального уравнения:\n",
    "1. число разбиений - N\n",
    "2. левую границу участка - a\n",
    "3. правую границу участка - b\n",
    "4. функцию ядра - kernel_func\n",
    "5. функцию внешнего возмущения - func\n",
    "\n",
    "Возвращает функцию, не принимающую аргументов, вызов которой запускает процесс вычисления, основанный на np.linalg.solve"
   ]
  },
  {
   "cell_type": "code",
   "execution_count": 19,
   "metadata": {},
   "outputs": [],
   "source": [
    "def init_equation(\n",
    "            N: float,\n",
    "            a: float,\n",
    "            b: float,\n",
    "            kernel_func: Callable[[float, float], float],\n",
    "            func: Callable[[float], float]) -> Callable[[], np.array]:\n",
    "    x, h = init_x_h(N, a, b)\n",
    "    A = init_a(N, a, b, kernel_func, x, h)\n",
    "    B = init_b(func, x)\n",
    "    return lambda: np.linalg.solve(A, B)"
   ]
  },
  {
   "cell_type": "code",
   "execution_count": 20,
   "metadata": {},
   "outputs": [],
   "source": [
    "a = 0\n",
    "b = 1\n",
    "N = 3\n",
    "kernel_func = lambda x, y: x * y\n",
    "func = lambda x: x"
   ]
  },
  {
   "cell_type": "code",
   "execution_count": 21,
   "metadata": {},
   "outputs": [
    {
     "data": {
      "text/plain": [
       "array([0.12587413, 0.37762238, 0.62937063])"
      ]
     },
     "execution_count": 21,
     "metadata": {},
     "output_type": "execute_result"
    }
   ],
   "source": [
    "equation = init_equation(N, a, b, kernel_func, func)\n",
    "equation()"
   ]
  }
 ],
 "metadata": {
  "kernelspec": {
   "display_name": "Python 3.9.12 ('base')",
   "language": "python",
   "name": "python3"
  },
  "language_info": {
   "codemirror_mode": {
    "name": "ipython",
    "version": 3
   },
   "file_extension": ".py",
   "mimetype": "text/x-python",
   "name": "python",
   "nbconvert_exporter": "python",
   "pygments_lexer": "ipython3",
   "version": "3.9.12"
  },
  "orig_nbformat": 4,
  "vscode": {
   "interpreter": {
    "hash": "047c14c6aae90797594d060c60b76a6e1cc1b5130d33b17540f70cd8706181a9"
   }
  }
 },
 "nbformat": 4,
 "nbformat_minor": 2
}
